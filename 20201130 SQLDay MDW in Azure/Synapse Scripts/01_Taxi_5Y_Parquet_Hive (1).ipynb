{
  "metadata": {
    "saveOutput": true,
    "language_info": {
      "name": "python"
    }
  },
  "nbformat": 4,
  "nbformat_minor": 2,
  "cells": [
    {
      "cell_type": "markdown",
      "metadata": {},
      "source": [
        "## Import NYC Yellow Taxi data into Data Lake\n",
        "First, lets load NYC Yellow Taxi trips from years 2014-2018 to the data frame.\n",
        ""
      ],
      "attachments": {}
    },
    {
      "cell_type": "code",
      "execution_count": 3,
      "outputs": [],
      "metadata": {},
      "source": [
        "from azureml.opendatasets import NycTlcYellow\n",
        "\n",
        "from datetime import datetime\n",
        "from dateutil import parser\n",
        "\n",
        "\n",
        "end_date = parser.parse('2018-12-31')\n",
        "start_date = parser.parse('2014-01-01')\n",
        "nyc_tlc = NycTlcYellow(start_date=start_date, end_date=end_date)\n",
        "nyc_tlc_df = nyc_tlc.to_spark_dataframe()"
      ],
      "attachments": {}
    },
    {
      "cell_type": "markdown",
      "metadata": {},
      "source": [
        "## Create a hive table\n",
        "Save data frame to the nyctaxitrips table in default database. This table will be accessible by SQL On Demand engine.\n",
        ""
      ],
      "attachments": {}
    },
    {
      "cell_type": "code",
      "execution_count": 3,
      "outputs": [
        {
          "output_type": "execute_result",
          "data": {
            "application/json": {
              "isSummary": false,
              "language": "sql",
              "table": {
                "rows": [],
                "schema": {}
              }
            }
          },
          "execution_count": 3,
          "metadata": {}
        }
      ],
      "metadata": {
        "diagram": {
          "activateDiagramType": 1,
          "chartConfig": {
            "category": "bar",
            "keys": [],
            "values": [],
            "yLabel": "",
            "xLabel": "",
            "aggregation": "SUM",
            "aggByBackend": false
          },
          "aggData": "{}",
          "isSummary": false,
          "previewData": {
            "filter": null
          },
          "isSql": true
        }
      },
      "source": [
        "%%sql\n",
        "DROP TABLE IF EXISTS nyctaxitrips"
      ],
      "attachments": {}
    },
    {
      "cell_type": "code",
      "execution_count": null,
      "outputs": [],
      "metadata": {
        "diagram": {
          "activateDiagramType": 2,
          "chartConfig": {
            "category": "bar",
            "keys": [
              "vendorID"
            ],
            "values": [
              "passengerCount"
            ],
            "yLabel": "passengerCount",
            "xLabel": "vendorID",
            "aggregation": "SUM",
            "aggByBackend": false
          },
          "aggData": "{\"passengerCount\":{\"2\":2}}",
          "isSummary": false,
          "previewData": {
            "filter": null
          },
          "isSql": false
        }
      },
      "source": [
        "nyc_tlc_df.write.mode('overwrite').format('parquet').saveAsTable('nyctaxitrips')"
      ],
      "attachments": {}
    },
    {
      "cell_type": "markdown",
      "metadata": {},
      "source": [
        "Let's count rows in a newly created table."
      ],
      "attachments": {}
    },
    {
      "cell_type": "code",
      "execution_count": 6,
      "outputs": [
        {
          "output_type": "execute_result",
          "data": {
            "application/json": {
              "isSummary": false,
              "language": "sql",
              "table": {
                "rows": [
                  {
                    "count(1)": 658482904
                  }
                ],
                "schema": {
                  "count(1)": "long"
                }
              }
            }
          },
          "execution_count": 6,
          "metadata": {}
        }
      ],
      "metadata": {
        "diagram": {
          "activateDiagramType": 1,
          "chartConfig": {
            "category": "bar",
            "keys": [],
            "values": [
              "count(1)"
            ],
            "yLabel": "count(1)",
            "xLabel": "",
            "aggregation": "SUM",
            "aggByBackend": false
          },
          "aggData": "{\"count(1)\":{\"\":658482904}}",
          "isSummary": false,
          "previewData": {
            "filter": null
          },
          "isSql": true
        }
      },
      "source": [
        "%%sql\n",
        "SELECT COUNT(*) FROM nyctaxitrips"
      ],
      "attachments": {}
    },
    {
      "cell_type": "markdown",
      "metadata": {},
      "source": [
        "## Write data to the data lake\n",
        "Save data from table to the data lake using Parquet format.\n",
        ""
      ],
      "attachments": {}
    },
    {
      "cell_type": "code",
      "execution_count": 7,
      "outputs": [],
      "metadata": {},
      "source": [
        "df = spark.sql('SELECT * FROM nyctaxitrips')\n",
        "df.write.format('parquet').save('/nyc/')"
      ],
      "attachments": {}
    }
  ]
}